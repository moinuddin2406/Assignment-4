{
  "nbformat": 4,
  "nbformat_minor": 0,
  "metadata": {
    "colab": {
      "provenance": [],
      "authorship_tag": "ABX9TyPl5Yh0QKNxfAAUS/VdwULx",
      "include_colab_link": true
    },
    "kernelspec": {
      "name": "python3",
      "display_name": "Python 3"
    },
    "language_info": {
      "name": "python"
    }
  },
  "cells": [
    {
      "cell_type": "markdown",
      "metadata": {
        "id": "view-in-github",
        "colab_type": "text"
      },
      "source": [
        "<a href=\"https://colab.research.google.com/github/moinuddin2406/Assignment-4/blob/main/05_loops_control_flow.ipynb\" target=\"_parent\"><img src=\"https://colab.research.google.com/assets/colab-badge.svg\" alt=\"Open In Colab\"/></a>"
      ]
    },
    {
      "cell_type": "code",
      "execution_count": 5,
      "metadata": {
        "colab": {
          "base_uri": "https://localhost:8080/"
        },
        "id": "kGSoMR-iKiTS",
        "outputId": "a8a8dadb-84ee-4c91-b511-e4997667731d"
      },
      "outputs": [
        {
          "output_type": "stream",
          "name": "stdout",
          "text": [
            "00_guess_my_number\n",
            "I am thinking of a number between 1 and 100.\n",
            "Enter Your guess: 70\n",
            "Your guess is too low.\n",
            "Enter Your guess: 85\n",
            "Your guess is too high.\n",
            "Enter Your guess: 75\n",
            "Your guess is too low.\n",
            "Enter Your guess: 80\n",
            "Your guess is too high.\n",
            "Enter Your guess: 79\n",
            "congratulation! the number was 79\n"
          ]
        }
      ],
      "source": [
        "import random\n",
        "print(\"00_guess_my_number\")\n",
        "\n",
        "def main():\n",
        "  secret_number = random.randint(1, 100)\n",
        "  print(\"I am thinking of a number between 1 and 100.\")\n",
        "\n",
        "  guess = int(input(\"Enter Your guess: \"))\n",
        "  while guess != secret_number:\n",
        "    if guess > secret_number:\n",
        "      print(\"Your guess is too high.\")\n",
        "    else:\n",
        "      print(\"Your guess is too low.\")\n",
        "    guess = int(input(\"Enter Your guess: \"))\n",
        "  print(f\"congratulation! the number was {secret_number}\")\n",
        "\n",
        "if __name__ == \"__main__\":\n",
        "   main()\n",
        "\n"
      ]
    },
    {
      "cell_type": "code",
      "source": [
        "print(\"01_fibonacci\")\n",
        "\n",
        "MAX_TERM_VALUE:int = 10000\n",
        "def main():\n",
        "  a,b = 0,1\n",
        "  print(a,b, end = \" \")\n",
        "\n",
        "  while True:\n",
        "   c = a+b\n",
        "   if c < MAX_TERM_VALUE:\n",
        "    print(c, end = \" \")\n",
        "    a,b = b,c\n",
        "   else:\n",
        "    break\n",
        "\n",
        "if __name__ == \"__main__\":\n",
        "  main()"
      ],
      "metadata": {
        "colab": {
          "base_uri": "https://localhost:8080/"
        },
        "id": "w6OPdv3eRS8v",
        "outputId": "f130f9f5-4f7a-4152-a84c-5e29a2a7c291"
      },
      "execution_count": 9,
      "outputs": [
        {
          "output_type": "stream",
          "name": "stdout",
          "text": [
            "01_fibonacci\n",
            "0 1 1 2 3 5 8 13 21 34 55 89 144 233 377 610 987 1597 2584 4181 6765 "
          ]
        }
      ]
    },
    {
      "cell_type": "code",
      "source": [
        "print(\"02_print_events\")\n",
        "\n",
        "def main():\n",
        "  for i in range(20):\n",
        "   print(i *2)\n",
        "\n",
        "if __name__ == \"__main__\":\n",
        "  main()\n",
        "\n"
      ],
      "metadata": {
        "colab": {
          "base_uri": "https://localhost:8080/"
        },
        "id": "EibVZhbiU4RI",
        "outputId": "4e90fdcb-a956-4826-f6ae-20c6c6f19a6b"
      },
      "execution_count": 13,
      "outputs": [
        {
          "output_type": "stream",
          "name": "stdout",
          "text": [
            "02_print_events\n",
            "0\n",
            "2\n",
            "4\n",
            "6\n",
            "8\n",
            "10\n",
            "12\n",
            "14\n",
            "16\n",
            "18\n",
            "20\n",
            "22\n",
            "24\n",
            "26\n",
            "28\n",
            "30\n",
            "32\n",
            "34\n",
            "36\n",
            "38\n"
          ]
        }
      ]
    },
    {
      "cell_type": "code",
      "source": [
        "print(\"03_wholesome_machine\")\n",
        "\n",
        "correct_affirmation:str = \"I am cabable of doing anything I put my mind too.\"\n",
        "def main():\n",
        "  print(\"welcome to the Wholesome Machine\")\n",
        "  while True:\n",
        "     user_input = input(\"Please type the following affirmation: \" + correct_affirmation)\n",
        "     if user_input == correct_affirmation:\n",
        "      print(\"That's right!\")\n",
        "      break\n",
        "     else:\n",
        "      print(\"That's not right, please try again.\")\n",
        "\n",
        "if __name__ == \"__main__\":\n",
        "  main()"
      ],
      "metadata": {
        "colab": {
          "base_uri": "https://localhost:8080/"
        },
        "id": "8DNyvAjQhxVL",
        "outputId": "44ba439d-bdcb-44d3-ad35-5cadffaa1bab"
      },
      "execution_count": 16,
      "outputs": [
        {
          "output_type": "stream",
          "name": "stdout",
          "text": [
            "03_wholesome_machine\n",
            "welcome to the Wholesome Machine\n",
            "Please type the following affirmation: I am cabable of doing anything I put my mind too.checking\n",
            "That's not right, please try again.\n",
            "Please type the following affirmation: I am cabable of doing anything I put my mind too.I am cabable of doing anything I put my mind too.\n",
            "That's right!\n"
          ]
        }
      ]
    },
    {
      "cell_type": "code",
      "source": [
        "print(\"04_liftoff\")\n",
        "\n",
        "def main():\n",
        "  for i in range(10,0,-1):\n",
        "    print(i, end= \" \")\n",
        "  print(\"Liftoff!\")\n",
        "\n",
        "if __name__ == \"__main__\":\n",
        "  main()"
      ],
      "metadata": {
        "colab": {
          "base_uri": "https://localhost:8080/"
        },
        "id": "sAKlFd-MnfdA",
        "outputId": "2f0cfc2e-b231-424a-c5d6-b77f3f5eff48"
      },
      "execution_count": 19,
      "outputs": [
        {
          "output_type": "stream",
          "name": "stdout",
          "text": [
            "04_liftoff\n",
            "10 9 8 7 6 5 4 3 2 1 Liftoff!\n"
          ]
        }
      ]
    },
    {
      "cell_type": "code",
      "source": [
        "print(\"05_double_it\")\n",
        "\n",
        "def main():\n",
        "  user_input = int(input(\"Enter a number: \"))\n",
        "  while user_input < 100:\n",
        "    user_input = user_input * 2\n",
        "    print(user_input, )\n",
        "\n",
        "\n",
        "if __name__ == \"__main__\":\n",
        "  main()"
      ],
      "metadata": {
        "colab": {
          "base_uri": "https://localhost:8080/"
        },
        "id": "OX54w44IoZCr",
        "outputId": "16ac8804-ae7c-406f-94f7-ee57e0d90d49"
      },
      "execution_count": 30,
      "outputs": [
        {
          "output_type": "stream",
          "name": "stdout",
          "text": [
            "05_double_it\n",
            "Enter a number: 3\n",
            "6\n",
            "12\n",
            "24\n",
            "48\n",
            "96\n",
            "192\n"
          ]
        }
      ]
    }
  ]
}