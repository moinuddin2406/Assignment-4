{
  "nbformat": 4,
  "nbformat_minor": 0,
  "metadata": {
    "colab": {
      "provenance": [],
      "authorship_tag": "ABX9TyPio5WtHdm2q9lnqa31aZoN",
      "include_colab_link": true
    },
    "kernelspec": {
      "name": "python3",
      "display_name": "Python 3"
    },
    "language_info": {
      "name": "python"
    }
  },
  "cells": [
    {
      "cell_type": "markdown",
      "metadata": {
        "id": "view-in-github",
        "colab_type": "text"
      },
      "source": [
        "<a href=\"https://colab.research.google.com/github/moinuddin2406/Assignment-4/blob/main/01_expressions.ipynb\" target=\"_parent\"><img src=\"https://colab.research.google.com/assets/colab-badge.svg\" alt=\"Open In Colab\"/></a>"
      ]
    },
    {
      "cell_type": "code",
      "execution_count": null,
      "metadata": {
        "id": "BPONqomQfA1G"
      },
      "outputs": [],
      "source": []
    },
    {
      "cell_type": "code",
      "source": [
        "import random\n",
        "print(\"01_dicesimulator\")\n",
        "def roll_dice():\n",
        "  die1: int = random.randint(1,6)\n",
        "  die2: int = random.randint(1,6)\n",
        "  total: int = die1 + die2\n",
        "  print(f\"Total of two dice: {total}\")\n",
        "\n",
        "def main():\n",
        "  die1: int = 10\n",
        "  print(\"die1 in main() start as :\" +str(die1))\n",
        "  roll_dice()\n",
        "  roll_dice()\n",
        "  roll_dice()\n",
        "  print(\"die1 in main() is : \" + str(die1))\n",
        "if __name__ == '__main__':\n",
        "    main()"
      ],
      "metadata": {
        "colab": {
          "base_uri": "https://localhost:8080/"
        },
        "id": "BiOc78qJfRnh",
        "outputId": "454853ef-3dd2-409e-a411-bf7312d215cf"
      },
      "execution_count": null,
      "outputs": [
        {
          "output_type": "stream",
          "name": "stdout",
          "text": [
            "01_dicesimulator\n",
            "die1 in main() start as :10\n",
            "Total of two dice: 6\n",
            "Total of two dice: 9\n",
            "Total of two dice: 6\n",
            "die1 in main() is : 10\n"
          ]
        }
      ]
    },
    {
      "cell_type": "code",
      "source": [
        "print(\"02_e=mc2\")\n",
        "def energy():\n",
        "  c: int = 299792458  # The speed of light in m/s\n",
        "  m:float = float(input(\"Enter kilos of mass: \"))\n",
        "  print(\"e = m * c**2\")\n",
        "  print(\"Mass = \" + str(m) + \" kg\")\n",
        "  print(\"C = \" + str(c) + \" m/s\")\n",
        "  print(\"e = \" + str(m * c **2) + \" joules\")\n",
        "if __name__ == \"__main__\" :\n",
        " energy()\n",
        "\n"
      ],
      "metadata": {
        "colab": {
          "base_uri": "https://localhost:8080/"
        },
        "id": "rCt1i0KM0VHd",
        "outputId": "396795ed-5493-4d22-b3a0-969536ed2584"
      },
      "execution_count": null,
      "outputs": [
        {
          "output_type": "stream",
          "name": "stdout",
          "text": [
            "02_e=mc2\n",
            "Enter kilos of mass: 50\n",
            "e = m * c**2\n",
            "Mass = 50.0 kg\n",
            "C = 299792458 m/s\n",
            "e = 4.493775893684088e+18 jules\n"
          ]
        }
      ]
    },
    {
      "cell_type": "code",
      "source": [
        "print(\"03_feet_to_inches\")\n",
        "inches_in_foot: int = 12     # conversion factor 12 inches = 1 foot\n",
        "def conversion():\n",
        "  feet : float = float(input(\"Enter feet to convert into inches: \"))\n",
        "  inches : float = feet * inches_in_foot\n",
        "  print(str(feet) + \" feet is equal to \" + str(inches) + \" inches\")\n",
        "if __name__ == \"__main__\":\n",
        "  conversion()\n"
      ],
      "metadata": {
        "colab": {
          "base_uri": "https://localhost:8080/"
        },
        "id": "-k66BoTDi_by",
        "outputId": "64d59a83-da6c-4db3-c487-16d15130717a"
      },
      "execution_count": null,
      "outputs": [
        {
          "output_type": "stream",
          "name": "stdout",
          "text": [
            "03_feet_to_inches\n",
            "Enter feet to convert into inches: 5\n",
            "5.0 feet is equal to 60.0 inches\n"
          ]
        }
      ]
    },
    {
      "cell_type": "code",
      "source": [
        "print(\"04_pythagorean_theorem\")\n",
        "import math\n",
        "def unknown_side():\n",
        "  ab:float = float(input(\"Enter first side AB : \"))\n",
        "  bc:float = float(input(\"Enter second side BC : \"))\n",
        "  ac :float = math.sqrt(ab**2 + bc**2)\n",
        "  print(f\"The length of third side(AC) of triangle is : {ac}\")\n",
        "if __name__ == \"__main__\":\n",
        "  unknown_side()\n"
      ],
      "metadata": {
        "colab": {
          "base_uri": "https://localhost:8080/"
        },
        "id": "fpWSzqDnncYg",
        "outputId": "4845587b-e57f-4635-c258-a52b772de40e"
      },
      "execution_count": null,
      "outputs": [
        {
          "output_type": "stream",
          "name": "stdout",
          "text": [
            "04_pythagorean_theorem\n",
            "Enter first side AB : 3\n",
            "Enter second side BC : 4\n",
            "The length of third side(AC) of triangle is : 5.0\n"
          ]
        }
      ]
    },
    {
      "cell_type": "code",
      "source": [
        "print(\"05_remainder_division\")\n",
        "def division(  ):\n",
        "\n",
        "  num1 : int = int(input(\"Enter an integer to be divided : \"))\n",
        "  num2 : int = int(input(\"Enter an integer to divide by : \"))\n",
        "  remainder : int = num1 % num2\n",
        "  quotient : int = num1 // num2\n",
        "  print(f\"The result of {num1} divided by {num2} is {quotient} with a remainder of {remainder}\")\n",
        "if __name__ == \"__main__\":\n",
        "  division()\n"
      ],
      "metadata": {
        "colab": {
          "base_uri": "https://localhost:8080/"
        },
        "id": "9QVx_g8YuwjP",
        "outputId": "a61d7319-50c0-4671-e4bc-9bbda280d136"
      },
      "execution_count": 6,
      "outputs": [
        {
          "output_type": "stream",
          "name": "stdout",
          "text": [
            "05_remainder_division\n",
            "Enter an integer to be divided : 34\n",
            "Enter an integer to divide by : 9\n",
            "The result of 34 divided by 9 is 3 with a remainder of 7\n"
          ]
        }
      ]
    },
    {
      "cell_type": "code",
      "source": [
        "print(\"06_rolldice\")\n",
        "import random\n",
        "def roll_dice():\n",
        "  die1: int = int(random.randint(1,6))\n",
        "  die2: int = int(random.randint(1,6))\n",
        "  total: int = int(die1 +die2)\n",
        "  print(\"first die : \" + str(die1))\n",
        "  print(\"second die : \" + str(die2))\n",
        "  print(f\"Total of two dice: {total}\")\n",
        "if __name__ == \"__main__\":\n",
        "  roll_dice()"
      ],
      "metadata": {
        "colab": {
          "base_uri": "https://localhost:8080/"
        },
        "id": "GYxDdGG-G6e0",
        "outputId": "c9b40415-4980-4af7-f78b-ec390cd33030"
      },
      "execution_count": 12,
      "outputs": [
        {
          "output_type": "stream",
          "name": "stdout",
          "text": [
            "06_rolldice\n",
            "first die : 6\n",
            "second die : 3\n",
            "Total of two dice: 9\n"
          ]
        }
      ]
    },
    {
      "cell_type": "code",
      "source": [
        "print(\"06_seconds_in_year\")\n",
        "days_in_year: int = 365\n",
        "hours_in_day: int = 24\n",
        "minutes_in_hour: int = 60\n",
        "seconds_in_minute: int = 60\n",
        "def seconds_in_year():\n",
        "  seconds_in_year : int = days_in_year * hours_in_day * minutes_in_hour * seconds_in_minute\n",
        "  print(f\"There are {seconds_in_year} seconds in a year\")\n",
        "if __name__ == \"__main__\":\n",
        "  seconds_in_year()\n"
      ],
      "metadata": {
        "colab": {
          "base_uri": "https://localhost:8080/"
        },
        "id": "8xSzrUIyKCjb",
        "outputId": "6a16f3f0-8ce6-404a-bcff-703bb9d55821"
      },
      "execution_count": 14,
      "outputs": [
        {
          "output_type": "stream",
          "name": "stdout",
          "text": [
            "06_seconds_in_year\n",
            "There are 31536000 seconds in a year\n"
          ]
        }
      ]
    },
    {
      "cell_type": "code",
      "source": [
        "print(\"07_tiny_mad_lib\")\n",
        "SENTANCE_START: str = \"It was Sunday.He was going to market to\"\n",
        "def main():\n",
        "  noun: str = input(\"Enter a noun :\")\n",
        "  verb: str = input(\"Enter a verb :\")\n",
        "  adjective: str = input(\"Enter an adjective :\")\n",
        "  print(SENTANCE_START + \" \" + verb\n",
        "        + \" \" + adjective + \" \" + noun + \" ! \")\n",
        "if __name__ == \"__main__\":\n",
        "  main()"
      ],
      "metadata": {
        "colab": {
          "base_uri": "https://localhost:8080/"
        },
        "id": "EN6NxFamMr8y",
        "outputId": "a0179078-f5c3-46c3-a0fd-fc61521bde85"
      },
      "execution_count": 26,
      "outputs": [
        {
          "output_type": "stream",
          "name": "stdout",
          "text": [
            "07_tiny_mad_lib\n",
            "Enter a noun :flowers\n",
            "Enter a verb :buy\n",
            "Enter an adjective :red\n",
            "It was Sunday.He was going to market to buy red flowers ! \n"
          ]
        }
      ]
    },
    {
      "cell_type": "code",
      "source": [],
      "metadata": {
        "id": "5t2AqWQJu0U-"
      },
      "execution_count": null,
      "outputs": []
    }
  ]
}