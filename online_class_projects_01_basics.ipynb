{
  "nbformat": 4,
  "nbformat_minor": 0,
  "metadata": {
    "colab": {
      "provenance": [],
      "authorship_tag": "ABX9TyMXwkZn+zjj0APfopnq8pJ8",
      "include_colab_link": true
    },
    "kernelspec": {
      "name": "python3",
      "display_name": "Python 3"
    },
    "language_info": {
      "name": "python"
    }
  },
  "cells": [
    {
      "cell_type": "markdown",
      "metadata": {
        "id": "view-in-github",
        "colab_type": "text"
      },
      "source": [
        "<a href=\"https://colab.research.google.com/github/moinuddin2406/Assignment-4/blob/main/online_class_projects_01_basics.ipynb\" target=\"_parent\"><img src=\"https://colab.research.google.com/assets/colab-badge.svg\" alt=\"Open In Colab\"/></a>"
      ]
    },
    {
      "cell_type": "code",
      "execution_count": 5,
      "metadata": {
        "colab": {
          "base_uri": "https://localhost:8080/"
        },
        "id": "qr09gTTsu90c",
        "outputId": "777b23b7-7b5e-4c10-d2de-bf1aa70f1c8a"
      },
      "outputs": [
        {
          "output_type": "stream",
          "name": "stdout",
          "text": [
            "00_joke_bot\n",
            "What do you want?joke\n",
            "Why did the math book look sad? \n",
            "Because it had too many problems. 📘😢\n"
          ]
        }
      ],
      "source": [
        "print(\"00_joke_bot\")\n",
        "\n",
        "PROMPT:str = \"What do you want?\"\n",
        "JOKE:str = \"Why did the math book look sad? \\nBecause it had too many problems. 📘😢\"\n",
        "SORRY:str =\"Sorry I only tell jokes.\"\n",
        "def main():\n",
        "  user_input:str = input(PROMPT)\n",
        "  user_input:str = user_input.strip().lower()\n",
        "\n",
        "  if \"joke\" in user_input:\n",
        "    print(JOKE)\n",
        "  else:\n",
        "    print(SORRY)\n",
        "if __name__ == \"__main__\":\n",
        "  main()"
      ]
    },
    {
      "cell_type": "code",
      "source": [
        "print(\"01_double_it\")\n",
        "def main():\n",
        "  user_value = int(input(\"Enter a number: \"))\n",
        "  while user_value < 100:\n",
        "   user_value = user_value * 2\n",
        "   print(user_value, end= \" \")\n",
        "\n",
        "if __name__ == \"__main__\":\n",
        "  main()"
      ],
      "metadata": {
        "colab": {
          "base_uri": "https://localhost:8080/"
        },
        "id": "ZzZlOEgvaHmm",
        "outputId": "99af1161-58ba-48da-fcad-082ec6217fbb"
      },
      "execution_count": 11,
      "outputs": [
        {
          "output_type": "stream",
          "name": "stdout",
          "text": [
            "01_double_it\n",
            "Enter a number: 2\n",
            "4 8 16 32 64 128 "
          ]
        }
      ]
    },
    {
      "cell_type": "code",
      "source": [
        "print(\"02_liftoff\")\n",
        "\n",
        "def main():\n",
        "  for i in range(10, 0, -1):\n",
        "   print(i, end= \" \")\n",
        "  print(\"Liftoff!\")\n",
        "\n",
        "if __name__ == \"__main__\":\n",
        "  main()\n"
      ],
      "metadata": {
        "colab": {
          "base_uri": "https://localhost:8080/"
        },
        "id": "0rrHdXcXdDkE",
        "outputId": "b44461e3-64da-439a-c248-01ba3a805838"
      },
      "execution_count": 15,
      "outputs": [
        {
          "output_type": "stream",
          "name": "stdout",
          "text": [
            "02_liftoff\n",
            "10 9 8 7 6 5 4 3 2 1 Liftoff!\n"
          ]
        }
      ]
    },
    {
      "cell_type": "code",
      "source": [
        "import random\n",
        "print(\"03_guess_my_number\")\n",
        "def main():\n",
        "  secret_number = random.randint(1,100)\n",
        "  print(\"I am thinking of a number between 1 and 100.\")\n",
        "\n",
        "  guess = int(input(\"Take a guess: \"))\n",
        "  while guess != secret_number:\n",
        "    if guess > secret_number:\n",
        "      print(\"Too high. Try again.\")\n",
        "    else:\n",
        "      print(\"Too low. Try again.\")\n",
        "    guess = int(input(\"Take a guess: \"))\n",
        "  print(f\"Congratulations! the number was {secret_number}\")\n",
        "\n",
        "if __name__ == \"__main__\":\n",
        "  main()\n",
        "\n"
      ],
      "metadata": {
        "colab": {
          "base_uri": "https://localhost:8080/"
        },
        "id": "EPwGra0ueTNS",
        "outputId": "446ca078-c762-407c-8c04-1468f96f9563"
      },
      "execution_count": 20,
      "outputs": [
        {
          "output_type": "stream",
          "name": "stdout",
          "text": [
            "03_guess_my_number\n",
            "I am thinking of a number between 1 and 100.\n",
            "Take a guess: 30\n",
            "Too high. Try again.\n",
            "Take a guess: 20\n",
            "Too high. Try again.\n",
            "Take a guess: 13\n",
            "Too high. Try again.\n",
            "Take a guess: 9\n",
            "Too high. Try again.\n",
            "Take a guess: 5\n",
            "Too high. Try again.\n",
            "Take a guess: 3\n",
            "Too low. Try again.\n",
            "Take a guess: 2\n",
            "Too low. Try again.\n",
            "Take a guess: 4\n",
            "Congratulations! the number was 4\n"
          ]
        }
      ]
    },
    {
      "cell_type": "code",
      "source": [
        "import random\n",
        "print(\"04_random_numbers\")\n",
        "\n",
        "def main():\n",
        "  for _ in range(10):\n",
        "   print(random.randint(1,100), end= \" \")\n",
        "\n",
        "if __name__ == \"__main__\":\n",
        "  main()\n"
      ],
      "metadata": {
        "colab": {
          "base_uri": "https://localhost:8080/"
        },
        "id": "9l9yWvYaiW8z",
        "outputId": "6e9273a2-6484-4bad-8b97-08e90b0f9f31"
      },
      "execution_count": 24,
      "outputs": [
        {
          "output_type": "stream",
          "name": "stdout",
          "text": [
            "04_random_numbers\n",
            "45 35 94 71 81 18 1 96 5 15 "
          ]
        }
      ]
    }
  ]
}