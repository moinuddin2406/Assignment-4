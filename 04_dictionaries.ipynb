{
  "nbformat": 4,
  "nbformat_minor": 0,
  "metadata": {
    "colab": {
      "provenance": [],
      "authorship_tag": "ABX9TyPtUoj4wZsObkWvKeFCDha2",
      "include_colab_link": true
    },
    "kernelspec": {
      "name": "python3",
      "display_name": "Python 3"
    },
    "language_info": {
      "name": "python"
    }
  },
  "cells": [
    {
      "cell_type": "markdown",
      "metadata": {
        "id": "view-in-github",
        "colab_type": "text"
      },
      "source": [
        "<a href=\"https://colab.research.google.com/github/moinuddin2406/Assignment-4/blob/main/04_dictionaries.ipynb\" target=\"_parent\"><img src=\"https://colab.research.google.com/assets/colab-badge.svg\" alt=\"Open In Colab\"/></a>"
      ]
    },
    {
      "cell_type": "code",
      "execution_count": null,
      "metadata": {
        "id": "CagBsK6n1Y0u"
      },
      "outputs": [],
      "source": []
    },
    {
      "cell_type": "code",
      "source": [
        "print(\"00_count_nums\")\n",
        "\n",
        "def get_numbers():\n",
        "    user_numbers = []\n",
        "    while True:\n",
        "        user_input = input(\"Enter a number: \")\n",
        "        # If the user enters a blank line, break out of the loop\n",
        "        if user_input == \"\":\n",
        "            break\n",
        "        # Convert the input to an integer and add to the list\n",
        "        num = int(user_input)\n",
        "        user_numbers.append(num)\n",
        "    return user_numbers\n",
        "\n",
        "def count_nums(num_list):\n",
        "    num_dict = {}\n",
        "    for num in num_list:\n",
        "        if num not in num_dict:\n",
        "            num_dict[num] = 1\n",
        "        else:\n",
        "            num_dict[num] += 1\n",
        "    return num_dict\n",
        "\n",
        "def display_results(num_dict):\n",
        "    for num in num_dict:\n",
        "        print(f\"{num} appears {num_dict[num]} times\")\n",
        "\n",
        "# Call the functions\n",
        "numbers = get_numbers()\n",
        "number_counts = count_nums(numbers)\n",
        "display_results(number_counts)\n",
        "\n",
        "if __name__ == '__display_results__':\n",
        "    display_results()\n",
        "\n",
        "\n",
        "\n",
        "\n"
      ],
      "metadata": {
        "colab": {
          "base_uri": "https://localhost:8080/"
        },
        "id": "ckGpAgVf2vLG",
        "outputId": "7a2f1098-ca94-408f-b2d2-022ed5b792d9"
      },
      "execution_count": 8,
      "outputs": [
        {
          "output_type": "stream",
          "name": "stdout",
          "text": [
            "00_count_nums\n",
            "Enter a number: 4\n",
            "Enter a number: 5\n",
            "Enter a number: 5\n",
            "Enter a number: 8\n",
            "Enter a number: 8\n",
            "Enter a number: 6\n",
            "Enter a number: 9\n",
            "Enter a number: \n",
            "4 appears 1 times\n",
            "5 appears 2 times\n",
            "8 appears 2 times\n",
            "6 appears 1 times\n",
            "9 appears 1 times\n"
          ]
        }
      ]
    },
    {
      "cell_type": "code",
      "source": [],
      "metadata": {
        "id": "h3CePUA_0M5R"
      },
      "execution_count": null,
      "outputs": []
    },
    {
      "cell_type": "code",
      "source": [
        "print(\"01_phonebook\")\n",
        "\n",
        "def read_phone_numbers():\n",
        "  phonebook = {}\n",
        "  while True:\n",
        "    name = input(\"Name: \")\n",
        "    if name == \"\":\n",
        "      break\n",
        "    number = input(\"Number: \")\n",
        "    phonebook[name] = number\n",
        "  return phonebook\n",
        "\n",
        "def show_contact(phonebook):\n",
        "  print(\"\\n*** Contact List***\")\n",
        "  for name in phonebook:\n",
        "    print(f\"{name} =>=> {phonebook[name]}\")\n",
        "\n",
        "def search_numbers(phonebook):\n",
        "  print(\"Search for a number\")\n",
        "  while True:\n",
        "    name = input(\"Name: \")\n",
        "    if name == \"\":\n",
        "      break\n",
        "    if name not in phonebook:\n",
        "      print(f\"{name} is not in the phonebook\")\n",
        "    else:\n",
        "      print(f\"{name} =>=> {phonebook[name]}\")\n",
        "\n",
        "def main():\n",
        "  phonebook = read_phone_numbers()\n",
        "  show_contact(phonebook)\n",
        "  search_numbers(phonebook)\n",
        "\n",
        "if __name__ == '__main__':\n",
        "  main()\n"
      ],
      "metadata": {
        "colab": {
          "base_uri": "https://localhost:8080/"
        },
        "id": "ZqYWbxa2kKIu",
        "outputId": "23e45973-d5ca-48b4-ff49-f55fbe9d2a3c"
      },
      "execution_count": 13,
      "outputs": [
        {
          "name": "stdout",
          "output_type": "stream",
          "text": [
            "01_phonebook\n",
            "Name: asad\n",
            "Number: 12345678911\n",
            "Name: moin\n",
            "Number: 0323222222\n",
            "Name: ali\n",
            "Number: 03225555555\n",
            "Name: \n",
            "\n",
            "*** Contact List***\n",
            "asad =>=> 12345678911\n",
            "moin =>=> 0323222222\n",
            "ali =>=> 03225555555\n",
            "Search for a number\n",
            "Name: minhal\n",
            "minhal is not in the phonebook\n",
            "Name: moin\n",
            "moin =>=> 0323222222\n",
            "Name: \n"
          ]
        }
      ]
    },
    {
      "cell_type": "code",
      "source": [
        "print(\"02_pop_up_shop\")\n",
        "def main():\n",
        "  fruits = {\n",
        "      \"apple\" : 10,\n",
        "      \"banana\" : 5,\n",
        "      \"orange\" : 8,\n",
        "      \"grapefruit\" : 12,\n",
        "  }\n",
        "  total_cost = 0\n",
        "  for fruit_name in fruits:\n",
        "    price = fruits[fruit_name]\n",
        "    amount = int(input(\"How many \" + fruit_name + \"s do you want? \"))\n",
        "    total_cost += price * amount\n",
        "  print(\"Total cost: $\" + str(total_cost))\n",
        "\n",
        "if __name__ == '__main__':\n",
        "  main()\n",
        "\n"
      ],
      "metadata": {
        "colab": {
          "base_uri": "https://localhost:8080/"
        },
        "id": "FUGisHoi5CLF",
        "outputId": "b7e068ed-4cec-47e1-e8ab-6d0dbda46723"
      },
      "execution_count": 14,
      "outputs": [
        {
          "output_type": "stream",
          "name": "stdout",
          "text": [
            "02_pop_up_shop\n",
            "How many apples do you want? 3\n",
            "How many bananas do you want? 2\n",
            "How many oranges do you want? 1\n",
            "How many grapefruits do you want? 2\n",
            "Total cost: $72\n"
          ]
        }
      ]
    },
    {
      "cell_type": "code",
      "source": [
        "import hashlib\n",
        "print(\"***03_powerful_passwords***\")\n",
        "\n",
        "def hash_password(password):\n",
        "  return hashlib.sha256(password.encode()).hexdigest()\n",
        "stored_logins ={\n",
        "    \"moin@gmail.com\" :hash_password(\"password120\"),\n",
        "    \"admin@gmail.com\" :hash_password(\"password333\")\n",
        "\n",
        "}\n",
        "def login(email ,password):\n",
        "  if email in stored_logins:\n",
        "    return stored_logins[email] == hash_password(password)\n",
        "  return False\n",
        "\n",
        "if __name__ == \"__main__\":\n",
        "  email = input(\"Enter your email: \")\n",
        "  password = input(\"Enter your password: \")\n",
        "\n",
        "if login(email ,password):\n",
        "  print(\"Login successful!\")\n",
        "else:\n",
        "  print(\"Invalid email or password.\")"
      ],
      "metadata": {
        "colab": {
          "base_uri": "https://localhost:8080/"
        },
        "id": "ZGIXqJX6--H-",
        "outputId": "434a1777-f5f2-4f8b-d695-46512e6a8c23"
      },
      "execution_count": 20,
      "outputs": [
        {
          "output_type": "stream",
          "name": "stdout",
          "text": [
            "***03_powerful_passwords***\n",
            "Enter your email: moin@gmail.com\n",
            "Enter your password: password120\n",
            "Login successful!\n"
          ]
        }
      ]
    },
    {
      "cell_type": "code",
      "source": [],
      "metadata": {
        "id": "pfked0yVDBEk"
      },
      "execution_count": null,
      "outputs": []
    }
  ]
}