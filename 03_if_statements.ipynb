{
  "nbformat": 4,
  "nbformat_minor": 0,
  "metadata": {
    "colab": {
      "provenance": [],
      "authorship_tag": "ABX9TyNdmatLj6mxyt+69pRq11fq",
      "include_colab_link": true
    },
    "kernelspec": {
      "name": "python3",
      "display_name": "Python 3"
    },
    "language_info": {
      "name": "python"
    }
  },
  "cells": [
    {
      "cell_type": "markdown",
      "metadata": {
        "id": "view-in-github",
        "colab_type": "text"
      },
      "source": [
        "<a href=\"https://colab.research.google.com/github/moinuddin2406/Assignment-4/blob/main/03_if_statements.ipynb\" target=\"_parent\"><img src=\"https://colab.research.google.com/assets/colab-badge.svg\" alt=\"Open In Colab\"/></a>"
      ]
    },
    {
      "cell_type": "code",
      "execution_count": null,
      "metadata": {
        "id": "KqDcR_WbNsJ0"
      },
      "outputs": [],
      "source": []
    },
    {
      "cell_type": "code",
      "source": [
        "print(\"01_print_events\")\n",
        "def even():\n",
        "  for i in range(20):\n",
        "    even = i * 2\n",
        "    print(even)\n",
        "\n",
        "if __name__ == \"__main__\":\n",
        "  even()\n"
      ],
      "metadata": {
        "colab": {
          "base_uri": "https://localhost:8080/"
        },
        "id": "mirzgwj7OEka",
        "outputId": "7c0f3047-b919-417b-99c9-c9790f90cd8b"
      },
      "execution_count": 3,
      "outputs": [
        {
          "output_type": "stream",
          "name": "stdout",
          "text": [
            "01_print_events\n",
            "0\n",
            "2\n",
            "4\n",
            "6\n",
            "8\n",
            "10\n",
            "12\n",
            "14\n",
            "16\n",
            "18\n",
            "20\n",
            "22\n",
            "24\n",
            "26\n",
            "28\n",
            "30\n",
            "32\n",
            "34\n",
            "36\n",
            "38\n"
          ]
        }
      ]
    },
    {
      "cell_type": "code",
      "source": [
        "print(\"02_international_voting_age\")\n",
        "PETURKSBOUIPO_AGE : int = 16\n",
        "STANLAU_AGE : int = 25\n",
        "MAYENGUA_AGE : int = 48\n",
        "\n",
        "def main():\n",
        "  user_age:int = int(input(\"How old are you? \"))\n",
        "  if user_age >= PETURKSBOUIPO_AGE:\n",
        "    print(\"You can vote in the PETURKSBOUIPO where the voting age is \" + str(PETURKSBOUIPO_AGE) +  \".\")\n",
        "  else:\n",
        "    print(\"You can't vote in the PETURKSBOUIPO where the voting age is\" + str(PETURKSBOUIPO_AGE) +  \".\")\n",
        "  if user_age >= STANLAU_AGE:\n",
        "    print(\"You can vote in the STANLAU where the voting age is \" + str(STANLAU_AGE) +  \".\")\n",
        "  else:\n",
        "    print(\"You can't vote in the STANLAU where the voting age is \" + str(STANLAU_AGE) +  \".\")\n",
        "  if user_age >= MAYENGUA_AGE:\n",
        "    print(\"You can vote in the MAYENGUA where the voting age is \" + str(MAYENGUA_AGE) +  \".\")\n",
        "  else:\n",
        "    print(\"You can't vote in the MAYENGUA where the voting age is \" + str(MAYENGUA_AGE) +  \".\")\n",
        "\n",
        "if __name__ == \"__main__\":\n",
        "  main()\n",
        "\n"
      ],
      "metadata": {
        "colab": {
          "base_uri": "https://localhost:8080/"
        },
        "id": "ONc9yIz0QtaW",
        "outputId": "01452b04-32af-4e91-8d31-8843d9b0ffe0"
      },
      "execution_count": 15,
      "outputs": [
        {
          "output_type": "stream",
          "name": "stdout",
          "text": [
            "02_international_voting_age\n",
            "How old are you? 26\n",
            "You can vote in the PETURKSBOUIPO where the voting age is 16.\n",
            "You can vote in the STANLAU where the voting age is 25.\n",
            "You can't vote in the MAYENGUA where the voting age is 48.\n"
          ]
        }
      ]
    },
    {
      "cell_type": "code",
      "source": [
        "print(\"03_leap_year\")\n",
        "def main():\n",
        " year = int(input(\"Enter a year: \"))\n",
        " if year % 4 == 0:\n",
        "  if year % 100 == 0:\n",
        "    if year % 400 == 0:\n",
        "      print(year, \"is a leap year\")\n",
        "    else:\n",
        "      print(year, \"is not a leap year\")\n",
        "  else:\n",
        "    print(year, \"is a leap year\")\n",
        " else:\n",
        "  print(year, \"is not a leap year\")\n",
        "\n",
        "if __name__ == \"__main__\":\n",
        "  main()"
      ],
      "metadata": {
        "colab": {
          "base_uri": "https://localhost:8080/"
        },
        "id": "KQsdNypuf89d",
        "outputId": "509611db-e198-425d-b003-56d5647eace8"
      },
      "execution_count": 26,
      "outputs": [
        {
          "output_type": "stream",
          "name": "stdout",
          "text": [
            "03_leap_year\n",
            "Enter a year: 2024\n",
            "2024 is a leap year\n"
          ]
        }
      ]
    },
    {
      "cell_type": "code",
      "source": [
        "print(\"04_tall_enough_to_ride\")\n",
        "minimum_height:int = 50\n",
        "def main():\n",
        "  height = float(input(\"How tall are you? \"))\n",
        "  if height >= minimum_height:\n",
        "    print(\"You are tall enough to ride.\")\n",
        "  else:\n",
        "    print(\"You are not tall enough to ride.\")\n",
        "\n",
        "if __name__ == \"__main__\":\n",
        "  main()"
      ],
      "metadata": {
        "colab": {
          "base_uri": "https://localhost:8080/"
        },
        "id": "7vv2OSQwjlme",
        "outputId": "d06d57f3-d204-4f35-8441-31721078a859"
      },
      "execution_count": 32,
      "outputs": [
        {
          "output_type": "stream",
          "name": "stdout",
          "text": [
            "04_tall_enough_to_ride\n",
            "How tall are you? 56\n",
            "You are tall enough to ride.\n"
          ]
        }
      ]
    },
    {
      "cell_type": "code",
      "source": [
        "print(\"05_random_numbers\")\n",
        "import random\n",
        "def main():\n",
        "  for i in range(10):\n",
        "    num:list[int] = random.randint(1,100)\n",
        "    print(num)\n",
        "if __name__ == \"__main__\":\n",
        "  main()"
      ],
      "metadata": {
        "colab": {
          "base_uri": "https://localhost:8080/"
        },
        "id": "9L9aX99OwHh3",
        "outputId": "7488de56-120a-41d1-d6d9-fe3be9514ba3"
      },
      "execution_count": 38,
      "outputs": [
        {
          "output_type": "stream",
          "name": "stdout",
          "text": [
            "05_random_numbers\n",
            "68\n",
            "50\n",
            "15\n",
            "5\n",
            "38\n",
            "95\n",
            "16\n",
            "49\n",
            "16\n",
            "12\n"
          ]
        }
      ]
    }
  ]
}