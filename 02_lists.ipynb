{
  "nbformat": 4,
  "nbformat_minor": 0,
  "metadata": {
    "colab": {
      "provenance": [],
      "authorship_tag": "ABX9TyOre7hCTHv9eWAVCp3dQzWK",
      "include_colab_link": true
    },
    "kernelspec": {
      "name": "python3",
      "display_name": "Python 3"
    },
    "language_info": {
      "name": "python"
    }
  },
  "cells": [
    {
      "cell_type": "markdown",
      "metadata": {
        "id": "view-in-github",
        "colab_type": "text"
      },
      "source": [
        "<a href=\"https://colab.research.google.com/github/moinuddin2406/Assignment-4/blob/main/02_lists.ipynb\" target=\"_parent\"><img src=\"https://colab.research.google.com/assets/colab-badge.svg\" alt=\"Open In Colab\"/></a>"
      ]
    },
    {
      "cell_type": "code",
      "source": [
        "print(\"01_add_many_number\")\n",
        "def add_numbers(numbers)->int:\n",
        "  num:int = 0\n",
        "  for n in numbers :\n",
        "    num += n\n",
        "\n",
        "  return num\n",
        "\n",
        "def main():\n",
        "    numbers : list[int] = [1,2,3,4,5,6]\n",
        "    sum :int = add_numbers(numbers)\n",
        "    print(sum)\n",
        "\n",
        "if __name__ == '__main__':\n",
        "    main()\n"
      ],
      "metadata": {
        "colab": {
          "base_uri": "https://localhost:8080/"
        },
        "id": "u_7ToCmJ8GR3",
        "outputId": "16c058de-c0f4-4885-cec9-253e457443c9"
      },
      "execution_count": null,
      "outputs": [
        {
          "output_type": "stream",
          "name": "stdout",
          "text": [
            "01_add_many_number\n",
            "21\n"
          ]
        }
      ]
    },
    {
      "cell_type": "code",
      "source": [
        "print(\"02_double_list\")\n",
        "def main():\n",
        "  numbers:list[int] = [1,2,3,4,5]\n",
        "  for i in range(len(numbers)):\n",
        "    index = numbers[i]\n",
        "    numbers[i] = index *2\n",
        "  print(numbers)\n",
        "\n",
        "if __name__ == '__main__':\n",
        "    main()\n",
        "\n",
        "\n"
      ],
      "metadata": {
        "colab": {
          "base_uri": "https://localhost:8080/"
        },
        "id": "aAw3THMf-bzs",
        "outputId": "c3b20176-fc8e-4061-e550-180521211748"
      },
      "execution_count": 4,
      "outputs": [
        {
          "output_type": "stream",
          "name": "stdout",
          "text": [
            "02_double_list\n",
            "[2, 4, 6, 8, 10]\n"
          ]
        }
      ]
    },
    {
      "cell_type": "code",
      "source": [
        "print(\"03_erase_canvas\")\n"
      ],
      "metadata": {
        "id": "Hx72wUIMDj_R"
      },
      "execution_count": null,
      "outputs": []
    },
    {
      "cell_type": "code",
      "source": [
        "print(\"04_flowing_with_data_structures\")\n",
        "def add_copies(my_list,data):\n",
        "  for i in range(3):\n",
        "    my_list.append(data)\n",
        "def main():\n",
        "    message = input(\"Enter a message to copy:\")\n",
        "    my_list = []\n",
        "    print(\"List before copy:\" ,my_list)\n",
        "    add_copies(my_list,message)\n",
        "    print(\"List after copy:\" ,my_list)\n",
        "\n",
        "\n",
        "if __name__ == '__main__':\n",
        "    main()\n"
      ],
      "metadata": {
        "colab": {
          "base_uri": "https://localhost:8080/"
        },
        "id": "NRqAstGVFo2j",
        "outputId": "5ac04fd2-6445-48af-aef1-8bd3596831ad"
      },
      "execution_count": 10,
      "outputs": [
        {
          "output_type": "stream",
          "name": "stdout",
          "text": [
            "04_flowing_with_data_structures\n",
            "Enter a message to copy:salam Moin\n",
            "List before copy: []\n",
            "List after copy: ['salam Moin', 'salam Moin', 'salam Moin']\n"
          ]
        }
      ]
    },
    {
      "cell_type": "code",
      "source": [
        "print(\"05_get_first_element\")\n",
        "def get_first_element(lst):\n",
        "  print(lst[0])\n",
        "\n",
        "def get_lst():\n",
        "  lst= []\n",
        "  elem:str = input(\"Enter an element to add the list.\")\n",
        "  while elem != \"\":\n",
        "    lst.append(elem)\n",
        "    elem:str = input(\"Enter an element to add the list.\")\n",
        "  return lst\n",
        "\n",
        "def main():\n",
        "    lst = get_lst()\n",
        "    get_first_element(lst)\n",
        "\n",
        "if __name__ == '__main__':\n",
        "    main()\n",
        "\n"
      ],
      "metadata": {
        "colab": {
          "base_uri": "https://localhost:8080/"
        },
        "id": "VB6WkcfTKujB",
        "outputId": "0b96b739-6104-444f-e80c-c8971c1c0cea"
      },
      "execution_count": 4,
      "outputs": [
        {
          "output_type": "stream",
          "name": "stdout",
          "text": [
            "05_get_first_element\n",
            "Enter an element to add the list.M\n",
            "Enter an element to add the list.o\n",
            "Enter an element to add the list.i\n",
            "Enter an element to add the list.n\n",
            "Enter an element to add the list.\n",
            "M\n"
          ]
        }
      ]
    },
    {
      "cell_type": "code",
      "source": [
        "print(\"06_get_last_element\")\n",
        "def get_last_element(lst):\n",
        "  print(lst[-1])\n",
        "\n",
        "def get_lst():\n",
        "  lst= []\n",
        "  elem:str = input(\"Enter an element to add the list.\")\n",
        "  while elem != \"\":\n",
        "    lst.append(elem)\n",
        "    elem:str = input(\"Enter an element to add the list.\")\n",
        "  return lst\n",
        "\n",
        "def main():\n",
        "    lst = get_lst()\n",
        "    get_last_element(lst)\n",
        "\n",
        "if __name__ == '__main__':\n",
        "    main()\n",
        "\n"
      ],
      "metadata": {
        "colab": {
          "base_uri": "https://localhost:8080/"
        },
        "id": "7rLEUrMTFI2m",
        "outputId": "014f6265-6b1d-41c3-aefd-f501e3b43740"
      },
      "execution_count": 5,
      "outputs": [
        {
          "output_type": "stream",
          "name": "stdout",
          "text": [
            "06_get_last_element\n",
            "Enter an element to add the list.m\n",
            "Enter an element to add the list.o\n",
            "Enter an element to add the list.i\n",
            "Enter an element to add the list.n\n",
            "Enter an element to add the list.\n",
            "n\n"
          ]
        }
      ]
    },
    {
      "cell_type": "code",
      "source": [
        "print(\"07_get_list\")\n",
        "def main():\n",
        "  lst = []\n",
        "  val = input(\"Enter a value to add to the list.\")\n",
        "  while val != \"\":\n",
        "    lst.append(val)\n",
        "    val = input(\"Enter a value to add to the list.\")\n",
        "  print(\"Here's the list:\" ,lst)\n",
        "\n",
        "if __name__ == '__main__':\n",
        "    main()\n"
      ],
      "metadata": {
        "colab": {
          "base_uri": "https://localhost:8080/"
        },
        "id": "MG-zaCydHvIo",
        "outputId": "507de4f3-e780-44f8-a50b-cd8f7407bd39"
      },
      "execution_count": 6,
      "outputs": [
        {
          "output_type": "stream",
          "name": "stdout",
          "text": [
            "07_get_list\n",
            "Enter a value to add to the list.a\n",
            "Enter a value to add to the list.b\n",
            "Enter a value to add to the list.c\n",
            "Enter a value to add to the list.d\n",
            "Enter a value to add to the list.e\n",
            "Enter a value to add to the list.f\n",
            "Enter a value to add to the list.\n",
            "Here's the list: ['a', 'b', 'c', 'd', 'e', 'f']\n"
          ]
        }
      ]
    },
    {
      "cell_type": "code",
      "source": [
        "print(\"08_shorten\")\n",
        "MAX_LENGTH:int = 3\n",
        "def shorten(lst):\n",
        "  while len(lst) >= MAX_LENGTH:\n",
        "    last_element = lst.pop()\n",
        "    print(last_element)\n",
        "def get_lst():\n",
        "  lst = []\n",
        "  element  = input(\"Enter an element to add to the list.\")\n",
        "  while element != \"\":\n",
        "    lst.append(element)\n",
        "    element = input(\"Enter an element to add to the list.\")\n",
        "  return lst\n",
        "\n",
        "def main():\n",
        "    lst = get_lst()\n",
        "    shorten(lst)\n",
        "\n",
        "\n",
        "if __name__ == '__main__':\n",
        "    main()"
      ],
      "metadata": {
        "colab": {
          "base_uri": "https://localhost:8080/"
        },
        "id": "XHi1178ZKI8x",
        "outputId": "7bdd169f-3cf4-47ad-dcdb-55dac349116e"
      },
      "execution_count": 9,
      "outputs": [
        {
          "output_type": "stream",
          "name": "stdout",
          "text": [
            "08_shorten\n",
            "Enter an element to add to the list.as\n",
            "Enter an element to add to the list.gn\n",
            "Enter an element to add to the list.gf\n",
            "Enter an element to add to the list.fj\n",
            "Enter an element to add to the list.hp\n",
            "Enter an element to add to the list.\n",
            "hp\n",
            "fj\n",
            "gf\n"
          ]
        }
      ]
    },
    {
      "cell_type": "code",
      "source": [],
      "metadata": {
        "id": "mZPsvExgOcBv"
      },
      "execution_count": null,
      "outputs": []
    }
  ]
}