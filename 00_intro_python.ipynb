{
  "nbformat": 4,
  "nbformat_minor": 0,
  "metadata": {
    "colab": {
      "provenance": [],
      "authorship_tag": "ABX9TyM1iWsRJdj9kLAUtPJRoDJF",
      "include_colab_link": true
    },
    "kernelspec": {
      "name": "python3",
      "display_name": "Python 3"
    },
    "language_info": {
      "name": "python"
    }
  },
  "cells": [
    {
      "cell_type": "markdown",
      "metadata": {
        "id": "view-in-github",
        "colab_type": "text"
      },
      "source": [
        "<a href=\"https://colab.research.google.com/github/moinuddin2406/Assignment-4/blob/main/00_intro_python.ipynb\" target=\"_parent\"><img src=\"https://colab.research.google.com/assets/colab-badge.svg\" alt=\"Open In Colab\"/></a>"
      ]
    },
    {
      "cell_type": "code",
      "execution_count": null,
      "metadata": {
        "id": "tyyBW14hLngX"
      },
      "outputs": [],
      "source": []
    },
    {
      "cell_type": "code",
      "source": [
        "print(\"01_add_two_numbers\")\n",
        "def add():\n",
        "  print(\"This application for add two number\")\n",
        "  first_number =int(input(\"Enter your first number \"))\n",
        "  second_number =int(input(\"Enter your second number \"))\n",
        "  total =int(first_number + second_number)\n",
        "  print(f\"The sum of {first_number} and {second_number} is {total}\")\n",
        "\n",
        "if __name__ == '__main__':\n",
        "    add()\n",
        "\n"
      ],
      "metadata": {
        "colab": {
          "base_uri": "https://localhost:8080/"
        },
        "id": "NyK91-iMMjPe",
        "outputId": "eddc2bcb-c8cc-4e60-ab3c-7769bee19b3b"
      },
      "execution_count": 25,
      "outputs": [
        {
          "output_type": "stream",
          "name": "stdout",
          "text": [
            "01_add_two_numbers\n",
            "This application for add two number\n",
            "Enter your first number 20\n",
            "Enter your second number 30\n",
            "The sum of 20 and 30 is 50\n"
          ]
        }
      ]
    },
    {
      "cell_type": "code",
      "source": [
        "print(\"02_agreement_bot\")\n",
        "def bot():\n",
        "  animal = str(input(\"what is your favorite animal?  \"))\n",
        "  print(f\"My favorite animal is also {animal}\")\n",
        "if __name__ == '__main__':\n",
        "    bot()\n"
      ],
      "metadata": {
        "colab": {
          "base_uri": "https://localhost:8080/"
        },
        "id": "0iI3Ql3fUsXz",
        "outputId": "278bb5d5-9160-4f95-fbcd-4eb0869fec1d"
      },
      "execution_count": 14,
      "outputs": [
        {
          "output_type": "stream",
          "name": "stdout",
          "text": [
            "02_agreement_bot\n",
            "what is your favorite animal?  deer\n",
            "My favorite animal is also deer\n"
          ]
        }
      ]
    },
    {
      "cell_type": "code",
      "source": [],
      "metadata": {
        "id": "xMaNyB0zfXcz"
      },
      "execution_count": null,
      "outputs": []
    },
    {
      "cell_type": "code",
      "source": [],
      "metadata": {
        "id": "FjfqVXs9O_0r"
      },
      "execution_count": null,
      "outputs": []
    },
    {
      "cell_type": "code",
      "source": [
        "print(\"03_fahrenheit_to_celsius\")\n",
        "def temp():\n",
        " print(\"This code for converting fahrenheit to celsius\")\n",
        " fahrenheit_degree =float(input(\"Enter your fahrenheit degree \"))\n",
        " celsius_degree =(fahrenheit_degree - 32) * 5/9\n",
        " print(f\"{fahrenheit_degree} fahrenheit is equal to {celsius_degree} celsius\")\n",
        "if __name__ == '__main__':\n",
        "    temp()\n",
        "\n"
      ],
      "metadata": {
        "colab": {
          "base_uri": "https://localhost:8080/"
        },
        "id": "VHGzor7wXiLv",
        "outputId": "709a65cf-a7c3-45f4-d7d2-1d81224fe0f1"
      },
      "execution_count": 26,
      "outputs": [
        {
          "output_type": "stream",
          "name": "stdout",
          "text": [
            "03_fahrenheit_to_celsius\n",
            "This code for converting fahrenheit to celsius\n",
            "Enter your fahrenheit degree 115\n",
            "115.0 fahrenheit is equal to 46.111111111111114 celsius\n"
          ]
        }
      ]
    },
    {
      "cell_type": "code",
      "source": [
        "print(\"04_how_old_are_they\")\n",
        "def ages():\n",
        "   anton : int = 21\n",
        "   beth  : int = anton + 6\n",
        "   chen  : int = beth  + 20\n",
        "   drew  : int = chen  + anton\n",
        "   ethan : int = chen\n",
        "   print(f\"Anton is {anton} years old\")\n",
        "   print(f\"Beth is {beth} years old\")\n",
        "   print(f\"Chen is {chen} years old\")\n",
        "   print(f\"Drew is {drew} years old\")\n",
        "   print(f\"Ethan is {ethan} years old\")\n",
        "if __name__ == '__main__':\n",
        "    ages()\n"
      ],
      "metadata": {
        "colab": {
          "base_uri": "https://localhost:8080/"
        },
        "id": "yYPFNgVdfe6V",
        "outputId": "a1eb27da-db00-45bf-9f63-3899defc964c"
      },
      "execution_count": 18,
      "outputs": [
        {
          "output_type": "stream",
          "name": "stdout",
          "text": [
            "04_how_old_are_they\n",
            "Anton is 21 years old\n",
            "Beth is 27 years old\n",
            "Chen is 47 years old\n",
            "Drew is 68 years old\n",
            "Ethan is 47 years old\n"
          ]
        }
      ]
    },
    {
      "cell_type": "code",
      "source": [
        "print(\"05_triangle_perimeter\")\n",
        "def triangle():\n",
        "  first_side =float(input(\"Enter your first side of triangle \"))\n",
        "  second_side =float(input(\"Enter your second side triangle \"))\n",
        "  third_side =float(input(\"Enter your third sid triangle \"))\n",
        "  perimeter =first_side + second_side + third_side\n",
        "  print(f\"The perimeter of the triangle is {perimeter}\")\n",
        "if __name__ == '__main__':\n",
        "    triangle()"
      ],
      "metadata": {
        "colab": {
          "base_uri": "https://localhost:8080/"
        },
        "id": "hVuop_ZjkLxO",
        "outputId": "95ca8f51-5f53-4b4c-c3c9-5ae0a1646192"
      },
      "execution_count": 21,
      "outputs": [
        {
          "output_type": "stream",
          "name": "stdout",
          "text": [
            "05_triangle_perimeter\n",
            "Enter your first side of triangle 5\n",
            "Enter your second side triangle 6\n",
            "Enter your third sid triangle 5.3\n",
            "The perimeter of the triangle is 16.3\n"
          ]
        }
      ]
    },
    {
      "cell_type": "code",
      "source": [
        "print(\"06_square_number\")\n",
        "def square_number():\n",
        "  num : float = float(input(\"Give a number to find its square  \"))\n",
        "  print(f\"The square of {num} is {num**2}\")\n",
        "if __name__ == '__main__':\n",
        "    square_number()\n",
        "\n"
      ],
      "metadata": {
        "colab": {
          "base_uri": "https://localhost:8080/"
        },
        "id": "qAh2oQw1nuDY",
        "outputId": "aa09c04e-2ab3-4c42-a7aa-b1cd9b2072d2"
      },
      "execution_count": 24,
      "outputs": [
        {
          "output_type": "stream",
          "name": "stdout",
          "text": [
            "06_square_number\n",
            "Give a number to find its square  2.6\n",
            "The square of 2.6 is 6.760000000000001\n"
          ]
        }
      ]
    }
  ]
}